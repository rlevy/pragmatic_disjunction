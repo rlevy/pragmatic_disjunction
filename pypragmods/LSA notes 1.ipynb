{
 "metadata": {
  "name": "",
  "signature": "sha256:e5ab9f2f6e7c750cd6d240072ed56a8d8e3ec6e3bc9c676bba6f9fa6758da40e"
 },
 "nbformat": 3,
 "nbformat_minor": 0,
 "worksheets": [
  {
   "cells": [
    {
     "cell_type": "heading",
     "level": 1,
     "metadata": {},
     "source": [
      "LSA Notes 1: Hurford, definitional, and small-lexicon parameter exploration"
     ]
    },
    {
     "cell_type": "code",
     "collapsed": false,
     "input": [
      "import itertools\n",
      "import cPickle as pickle\n",
      "import matplotlib\n",
      "import matplotlib.pyplot as plt\n",
      "import numpy as np\n",
      "import lsa"
     ],
     "language": "python",
     "metadata": {},
     "outputs": [],
     "prompt_number": 1
    },
    {
     "cell_type": "code",
     "collapsed": false,
     "input": [
      "%matplotlib inline"
     ],
     "language": "python",
     "metadata": {},
     "outputs": [],
     "prompt_number": 2
    },
    {
     "cell_type": "heading",
     "level": 2,
     "metadata": {},
     "source": [
      "1. Hurford inference with a small lexicon"
     ]
    },
    {
     "cell_type": "heading",
     "level": 4,
     "metadata": {},
     "source": [
      "Here, with basic and easy to defend parameter settings, we see the Hurford inference, in that the listener hearing 'A v X' infers that the lexicon is Lex1 and that the state is 1v2."
     ]
    },
    {
     "cell_type": "heading",
     "level": 4,
     "metadata": {},
     "source": [
      "First, the set-up:"
     ]
    },
    {
     "cell_type": "code",
     "collapsed": false,
     "input": [
      "hc_small = lsa.Experiment(n=3, \n",
      "                          baselexicon={'A': ['1'], 'B': ['2'], 'X':['1', '2']}, \n",
      "                          lexical_costs={'A':0.0, 'B':0.0, 'X':0.0},\n",
      "                          temperature=1.0, \n",
      "                          disjunction_cost=1.0, \n",
      "                          beta=1.0, \n",
      "                          alpha=1.0, \n",
      "                          prior=None,    # Triggers a flat prior.\n",
      "                          lexprior=None) # Triggers a flat prior.\n",
      "hc_small.build()"
     ],
     "language": "python",
     "metadata": {},
     "outputs": [],
     "prompt_number": 3
    },
    {
     "cell_type": "heading",
     "level": 4,
     "metadata": {},
     "source": [
      "Here are the three lexica we are dealing with:"
     ]
    },
    {
     "cell_type": "code",
     "collapsed": false,
     "input": [
      "for i, lex in enumerate(hc_small.lexica):\n",
      "    print \"Lex%s: \" % i, hc_small.lex2str(lex)"
     ],
     "language": "python",
     "metadata": {},
     "outputs": [
      {
       "output_type": "stream",
       "stream": "stdout",
       "text": [
        "Lex0:  A={1}; B={2}; X={1}\n",
        "Lex1:  A={1}; B={2}; X={2}\n",
        "Lex2:  A={1}; B={2}; X={1,2,1 v 2}\n"
       ]
      }
     ],
     "prompt_number": 4
    },
    {
     "cell_type": "heading",
     "level": 4,
     "metadata": {},
     "source": [
      "And here is the inference; Lex1 is where A and C are exclusivized, and 1 v 2 is the target state for a disjunctive interpretation:"
     ]
    },
    {
     "cell_type": "code",
     "collapsed": false,
     "input": [
      "hc_small.display_listener_inference(msg='A v X')"
     ],
     "language": "python",
     "metadata": {},
     "outputs": [
      {
       "output_type": "stream",
       "stream": "stdout",
       "text": [
        "--------------------------------------------------\n",
        "$\\alpha$: 1.0; $\\beta$: 1.0; cost($\\vee$): 1.0; cost(A): 0.0; cost(B): 0.0; cost(X): 0.0; $n$: 3; $\\lambda$: 1.0\n",
        "                   1         2     1 v 2\n",
        "      Lex0      0.032     0.013     0.105\n",
        "      Lex1      0.101     0.058     0.391\n",
        "      Lex2      0.057     0.027     0.216\n"
       ]
      }
     ],
     "prompt_number": 5
    },
    {
     "cell_type": "heading",
     "level": 2,
     "metadata": {},
     "source": [
      "2. Hurford inference with a large lexicon"
     ]
    },
    {
     "cell_type": "heading",
     "level": 4,
     "metadata": {},
     "source": [
      "This run uses the same parameters as the above, but now the lexicon is larger."
     ]
    },
    {
     "cell_type": "code",
     "collapsed": false,
     "input": [
      "hc_large = lsa.Experiment(n=3,\n",
      "                          baselexicon={'A': ['1'], 'B': ['2'], 'C': ['3'], 'D': ['4'], 'X': ['1', '2', '3', '4']}, \n",
      "                          lexical_costs={'A':0.0, 'B':0.0, 'C':0.0, 'D':0.0, 'X':0.0},\n",
      "                          temperature=1.0, \n",
      "                          disjunction_cost=1.0, \n",
      "                          beta=1.0,\n",
      "                          alpha=1.0, \n",
      "                          prior=None,    # Triggers a flat prior.\n",
      "                          lexprior=None) # Triggers a flat prior.\n",
      "hc_large.build()"
     ],
     "language": "python",
     "metadata": {},
     "outputs": [],
     "prompt_number": 6
    },
    {
     "cell_type": "heading",
     "level": 4,
     "metadata": {},
     "source": [
      "The joint probability table is really big, so I just show the max:"
     ]
    },
    {
     "cell_type": "code",
     "collapsed": false,
     "input": [
      "def show_max_lex_state_values(experiment, msg='A v X'):\n",
      "    joint_prob_table = experiment.listener_inference(msg=msg)\n",
      "    max_prob = np.max(joint_prob_table)\n",
      "    for i, j in itertools.product(range(len(experiment.lexica)), range(len(experiment.states))):\n",
      "        if joint_prob_table[i, j] == max_prob:\n",
      "            print \"<Lex%s, %s>: %s\" % (i, experiment.states[j], joint_prob_table[i, j])"
     ],
     "language": "python",
     "metadata": {},
     "outputs": [],
     "prompt_number": 9
    },
    {
     "cell_type": "code",
     "collapsed": false,
     "input": [
      "show_max_lex_state_values(hc_large, msg='A v X')"
     ],
     "language": "python",
     "metadata": {},
     "outputs": [
      {
       "output_type": "stream",
       "stream": "stdout",
       "text": [
        "<Lex13, 1 v 2 v 3>: 0.0233702417397\n",
        "<Lex13, 1 v 2 v 4>: 0.0233702417397\n",
        "<Lex13, 1 v 3 v 4>: 0.0233702417397\n"
       ]
      }
     ],
     "prompt_number": 10
    },
    {
     "cell_type": "heading",
     "level": 4,
     "metadata": {},
     "source": [
      "Lex13 is the least informative of the Hurfordian lexica, in that it enforces only that A and X are disjoint and that X is not trivial:"
     ]
    },
    {
     "cell_type": "code",
     "collapsed": false,
     "input": [
      "hc_large.lex2str(13)"
     ],
     "language": "python",
     "metadata": {},
     "outputs": [
      {
       "metadata": {},
       "output_type": "pyout",
       "prompt_number": 11,
       "text": [
        "'A={1}; B={2}; C={3}; D={4}; X={2,3,4,2 v 3,2 v 4,3 v 4,2 v 3 v 4}'"
       ]
      }
     ],
     "prompt_number": 11
    },
    {
     "cell_type": "heading",
     "level": 2,
     "metadata": {},
     "source": [
      "3. Definitional reading with a small lexicon"
     ]
    },
    {
     "cell_type": "heading",
     "level": 4,
     "metadata": {},
     "source": [
      "Here's a setting that delivers the definitional reading: we raise temperature/lambda and we lower disjunction_cost."
     ]
    },
    {
     "cell_type": "code",
     "collapsed": false,
     "input": [
      "defin_small = lsa.Experiment(n=3,\n",
      "                              baselexicon={'A': ['1'], 'B': ['2'], 'X':['1', '2']},\n",
      "                              lexical_costs={'A':0.0, 'B':0.0, 'X':0.0},\n",
      "                              temperature=2.0, \n",
      "                              disjunction_cost=0.01, \n",
      "                              beta=1.0,\n",
      "                              alpha=1.0, \n",
      "                              prior=None,    # Triggers a flat prior.\n",
      "                              lexprior=None) # Triggers a flat prior.\n",
      "defin_small.build()\n",
      "defin_small.display_listener_inference(msg='A v X')"
     ],
     "language": "python",
     "metadata": {},
     "outputs": [
      {
       "output_type": "stream",
       "stream": "stdout",
       "text": [
        "--------------------------------------------------\n",
        "$\\alpha$: 1.0; $\\beta$: 1.0; cost($\\vee$): 0.01; cost(A): 0.0; cost(B): 0.0; cost(X): 0.0; $n$: 3; $\\lambda$: 2.0\n",
        "                   1         2     1 v 2\n",
        "      Lex0      0.215     0.001     0.125\n",
        "      Lex1       0.16     0.002     0.198\n",
        "      Lex2      0.113     0.001     0.186\n"
       ]
      }
     ],
     "prompt_number": 12
    },
    {
     "cell_type": "heading",
     "level": 2,
     "metadata": {},
     "source": [
      "4. Definitional reading with a large lexicon"
     ]
    },
    {
     "cell_type": "heading",
     "level": 4,
     "metadata": {},
     "source": [
      "Very different parameter settings are neded to get definitional readings here, and higher n can cause it disappear. An example:"
     ]
    },
    {
     "cell_type": "code",
     "collapsed": false,
     "input": [
      "defin_large = lsa.Experiment(n=3, \n",
      "                             baselexicon={'A': ['1'], 'B': ['2'], 'C': ['3'], 'D': ['4'], 'X': ['1', '2', '3', '4']}, \n",
      "                             lexical_costs={'A':0.0, 'B':0.0, 'C':0.0, 'D':0.0, 'X':0.0},\n",
      "                             temperature=2.4, \n",
      "                             disjunction_cost=0.00,\n",
      "                             beta=1.9, \n",
      "                             alpha=0.6, \n",
      "                             prior=None,    # Triggers a flat prior.\n",
      "                             lexprior=None) # Triggers a flat prior.\n",
      "defin_large.build()\n",
      "\n",
      "# Just show the max values to avoid display overload:\n",
      "show_max_lex_state_values(defin_large, msg='A v X')"
     ],
     "language": "python",
     "metadata": {},
     "outputs": [
      {
       "output_type": "stream",
       "stream": "stdout",
       "text": [
        "<Lex0, 1>: 0.0547959103286\n"
       ]
      }
     ],
     "prompt_number": 14
    },
    {
     "cell_type": "heading",
     "level": 2,
     "metadata": {},
     "source": [
      "5. Exploring the parameter space: small lexicon"
     ]
    },
    {
     "cell_type": "heading",
     "level": 4,
     "metadata": {},
     "source": [
      "We want to get a grip on where the inference arises and where it doesn't. The function explore_hyperparameters permits such\n",
      "exploration. Here's a report for the smaller lexicon:"
     ]
    },
    {
     "cell_type": "code",
     "collapsed": false,
     "input": [
      "# Note: this takes a long time; the results are pickled and can be read in with the command below.\n",
      "\n",
      "# This searches over alpha, beta, disjunction_cost, and lambda/temperature in the range [0,3], increments of 0.2.\n",
      "# n is fixed at 3 but can also be allowed to vary.\n",
      "# The result dictionary mapping (lexindex, state) pairs to the parameter values that give them as the max value,\n",
      "# where None is used in the case of ties for the max value. The value dicts look like this:\n",
      "#  {'lambda': temp, 'alpha': alpha, 'beta': beta, 'depth': depth, 'disjunction_cost': dcost}\n",
      "results_small = lsa.explore_hyperparameters(baselexicon={'A': ['1'], 'B': ['2'], 'X':['1', '2']}, \n",
      "                                            lexical_costs={'A':0.0, 'B':0.0, 'X':0.0},\n",
      "                                            msg='A v X')\n",
      "\n",
      "# Store the results since they take a while to create:\n",
      "pickle.dump(results_small, file('results-small-lex.pickle', 'w'), 2)"
     ],
     "language": "python",
     "metadata": {},
     "outputs": [
      {
       "output_type": "stream",
       "stream": "stderr",
       "text": [
        "pragmods.py:142: RuntimeWarning: invalid value encountered in double_scalars\n",
        "  lex[m,l] = np.exp(self.temperature * ((self.alpha*safelog(lis[u,m])) + (self.beta*safelog(lexprobs[l][u])) - self.costs[u]))\n"
       ]
      }
     ],
     "prompt_number": 62
    },
    {
     "cell_type": "code",
     "collapsed": false,
     "input": [
      "# Get the stored results\n",
      "results_small = pickle.load(file('results-small-lex.pickle'))"
     ],
     "language": "python",
     "metadata": {},
     "outputs": [],
     "prompt_number": 15
    },
    {
     "cell_type": "heading",
     "level": 3,
     "metadata": {},
     "source": [
      "A high-level look at the outcome distribution:"
     ]
    },
    {
     "cell_type": "code",
     "collapsed": false,
     "input": [
      "def lex_inference_distribution(results, lexindex, state):\n",
      "    total = sum([len(v) for v in results.values()])\n",
      "    vals = results[(lexindex, state)]\n",
      "    print \"<Lex%s, %s> %s/%s = %s\" % (lexindex, state, len(vals), total, len(vals) / float(total))   "
     ],
     "language": "python",
     "metadata": {},
     "outputs": [],
     "prompt_number": 18
    },
    {
     "cell_type": "heading",
     "level": 4,
     "metadata": {},
     "source": [
      "Hurfordian reading (very common):"
     ]
    },
    {
     "cell_type": "code",
     "collapsed": false,
     "input": [
      "lex_inference_distribution(results_small, 1, '1 v 2')"
     ],
     "language": "python",
     "metadata": {},
     "outputs": [
      {
       "output_type": "stream",
       "stream": "stdout",
       "text": [
        "<Lex1, 1 v 2> 39559/50625 = 0.781412345679\n"
       ]
      }
     ],
     "prompt_number": 19
    },
    {
     "cell_type": "heading",
     "level": 4,
     "metadata": {},
     "source": [
      "Definitional reading (rare):"
     ]
    },
    {
     "cell_type": "code",
     "collapsed": false,
     "input": [
      "lex_inference_distribution(results_small, 0, '1')"
     ],
     "language": "python",
     "metadata": {},
     "outputs": [
      {
       "output_type": "stream",
       "stream": "stdout",
       "text": [
        "<Lex0, 1> 361/50625 = 0.00713086419753\n"
       ]
      }
     ],
     "prompt_number": 20
    },
    {
     "cell_type": "heading",
     "level": 4,
     "metadata": {},
     "source": [
      "Anti-hurfordian readings (none!):"
     ]
    },
    {
     "cell_type": "code",
     "collapsed": false,
     "input": [
      "lex_inference_distribution(results_small, 2, '1 v 2')"
     ],
     "language": "python",
     "metadata": {},
     "outputs": [
      {
       "output_type": "stream",
       "stream": "stdout",
       "text": [
        "<Lex2, 1 v 2> 0/50625 = 0.0\n"
       ]
      }
     ],
     "prompt_number": 21
    },
    {
     "cell_type": "heading",
     "level": 4,
     "metadata": {},
     "source": [
      "The Hurford outcome is by far the dominant one, followed by the definitional readings. No parameter setting supports the non-Hufordian inference where we simply let the general term potentially subsume the specific one!"
     ]
    },
    {
     "cell_type": "heading",
     "level": 3,
     "metadata": {},
     "source": [
      "It's informative to check out the minimum and maximum parameter settings for Hurford vs. definitional:"
     ]
    },
    {
     "cell_type": "code",
     "collapsed": false,
     "input": [
      "def inspect_params(results, lexindex, state):\n",
      "    vals = results[(lexindex, state)]\n",
      "    print \"<Lex%s, %s>\" % (lexindex, state)\n",
      "    # Leave out depth because it was fixed at 3 throughout:\n",
      "    for param in ('lambda', 'alpha', 'beta', 'disjunction_cost'):\n",
      "        param_vals = [r[param] for r in vals]\n",
      "        print \"\\t\", param, min(param_vals), max(param_vals)"
     ],
     "language": "python",
     "metadata": {},
     "outputs": [],
     "prompt_number": 22
    },
    {
     "cell_type": "heading",
     "level": 4,
     "metadata": {},
     "source": [
      "Hurfordian:"
     ]
    },
    {
     "cell_type": "code",
     "collapsed": false,
     "input": [
      "inspect_params(results_small, 1, '1 v 2')"
     ],
     "language": "python",
     "metadata": {},
     "outputs": [
      {
       "output_type": "stream",
       "stream": "stdout",
       "text": [
        "<Lex1, 1 v 2>\n",
        "\tlambda 0.2 2.8\n",
        "\talpha 0.2 2.8\n",
        "\tbeta 0.2 2.8\n",
        "\tdisjunction_cost 0.0 2.8\n"
       ]
      }
     ],
     "prompt_number": 23
    },
    {
     "cell_type": "heading",
     "level": 4,
     "metadata": {},
     "source": [
      "Definitional (the 0 min and max for disjunction_cost is a bit misleading; values &lt; 0.1 work as well):"
     ]
    },
    {
     "cell_type": "code",
     "collapsed": false,
     "input": [
      "inspect_params(results_small, 0, '1') "
     ],
     "language": "python",
     "metadata": {},
     "outputs": [
      {
       "output_type": "stream",
       "stream": "stdout",
       "text": [
        "<Lex0, 1>\n",
        "\tlambda 2.0 2.8\n",
        "\talpha 0.2 2.8\n",
        "\tbeta 0.2 2.8\n",
        "\tdisjunction_cost 0.0 0.0\n"
       ]
      }
     ],
     "prompt_number": 24
    },
    {
     "cell_type": "heading",
     "level": 3,
     "metadata": {},
     "source": [
      "Scatterplots of the parameter relationships for different readings"
     ]
    },
    {
     "cell_type": "code",
     "collapsed": false,
     "input": [
      "# The functions show the pairwise relationships between our parameters for some reading (<Lex, state> pair) of interest:\n",
      "\n",
      "def param_scatterplots(vals):\n",
      "    fig, axarray = plt.subplots(nrows=1, ncols=6)\n",
      "    fig.set_figheight(5)\n",
      "    fig.set_figwidth(40)\n",
      "    params = ('lambda', 'alpha', 'beta', 'disjunction_cost')\n",
      "    ax_index = 0    \n",
      "    for i in range(len(params)-1):\n",
      "        p1 = params[i]\n",
      "        for j in range((i+1), len(params)):\n",
      "            p2 = params[j]\n",
      "            if p1 != p2:\n",
      "                twoparam_scatterplot(axarray[ax_index], vals, p1, p2) \n",
      "                ax_index +=1\n",
      "            \n",
      "def twoparam_scatterplot(ax, vals, p1, p2):\n",
      "    vals1 = [r[p1] for r in vals]\n",
      "    vals2 = [r[p2] for r in vals]\n",
      "    ax.plot(vals1, vals2, linestyle=\"\", marker=\".\")\n",
      "    ax.set_xlabel(p1)\n",
      "    ax.set_ylabel(p2)"
     ],
     "language": "python",
     "metadata": {},
     "outputs": [],
     "prompt_number": 25
    },
    {
     "cell_type": "heading",
     "level": 4,
     "metadata": {},
     "source": [
      "Scatterplots of the Hufordian paramaters:"
     ]
    },
    {
     "cell_type": "code",
     "collapsed": false,
     "input": [
      "param_scatterplots(results_small[(1, '1 v 2')])"
     ],
     "language": "python",
     "metadata": {},
     "outputs": [
      {
       "metadata": {},
       "output_type": "display_data",
       "png": "[encoded data removed]",
       "text": [
        "<matplotlib.figure.Figure at 0x113b54d10>"
       ]
      }
     ],
     "prompt_number": 26
    },
    {
     "cell_type": "heading",
     "level": 4,
     "metadata": {},
     "source": [
      "Scatterplots of the definitional parameters:"
     ]
    },
    {
     "cell_type": "code",
     "collapsed": false,
     "input": [
      "param_scatterplots(results_small[(0, '1')])"
     ],
     "language": "python",
     "metadata": {},
     "outputs": [
      {
       "metadata": {},
       "output_type": "display_data",
       "png": "[encoded data removed]",
       "text": [
        "<matplotlib.figure.Figure at 0x1157f9590>"
       ]
      }
     ],
     "prompt_number": 27
    }
   ],
   "metadata": {}
  }
 ]
}