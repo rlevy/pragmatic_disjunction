{
 "metadata": {
  "name": "",
  "signature": "sha256:21180f4700d11586653915c0cd573a37cabf1c64aaef3517dbe9a23d2e1a5eca"
 },
 "nbformat": 3,
 "nbformat_minor": 0,
 "worksheets": [
  {
   "cells": [
    {
     "cell_type": "heading",
     "level": 1,
     "metadata": {},
     "source": [
      "Hurford and definitional readings"
     ]
    },
    {
     "cell_type": "code",
     "collapsed": false,
     "input": [
      "import itertools\n",
      "import cPickle as pickle\n",
      "import matplotlib\n",
      "import matplotlib.pyplot as plt\n",
      "import numpy as np\n",
      "import lsa"
     ],
     "language": "python",
     "metadata": {},
     "outputs": [],
     "prompt_number": 1
    },
    {
     "cell_type": "code",
     "collapsed": false,
     "input": [],
     "language": "python",
     "metadata": {},
     "outputs": []
    },
    {
     "cell_type": "code",
     "collapsed": false,
     "input": [
      "%matplotlib inline"
     ],
     "language": "python",
     "metadata": {},
     "outputs": [],
     "prompt_number": 2
    },
    {
     "cell_type": "heading",
     "level": 2,
     "metadata": {},
     "source": [
      "1. Hurford inference with a small lexicon"
     ]
    },
    {
     "cell_type": "markdown",
     "metadata": {},
     "source": [
      "Here, with basic and easy to defend parameter settings, we see the Hurford inference, in that the listener hearing 'A v X' infers that the lexicon is Lex1 and that the state is 1v2."
     ]
    },
    {
     "cell_type": "code",
     "collapsed": false,
     "input": [
      "reload(lsa)\n",
      "hc_small = lsa.Experiment(n=2, \n",
      "                          baselexicon={'A': ['1'], 'B': ['2'], 'X':['1', '2']}, \n",
      "                          lexical_costs={'A':0.0, 'B':0.0, 'X':0.0},\n",
      "                          temperature=1.0, \n",
      "                          disjunction_cost=1.0, \n",
      "                          beta=1.0, \n",
      "                          alpha=2.0, \n",
      "                          prior=None,    # Triggers a flat prior.\n",
      "                          lexprior=None, # Triggers a flat prior.\n",
      "                          null_cost=5.0)\n",
      "hc_small.build()\n",
      "hc_small.display_listener_inference(msg='A v X')"
     ],
     "language": "python",
     "metadata": {},
     "outputs": [
      {
       "output_type": "stream",
       "stream": "stdout",
       "text": [
        "======================================================================\n",
        "------------------------------------------------------------------------\n",
        "L1 - Lex0\n",
        "                  1       2   1 v 2\n",
        "          A  0.1916     0.0     0.0\n",
        "          B     0.0  0.4304     0.0\n",
        "          X  0.2828     0.0     0.0\n",
        "      A v B  0.0141  0.0317  0.3566\n",
        "      A v X  0.1753     0.0     0.0\n",
        "      B v X  0.0195  0.0437  0.4922\n",
        "  A v B v X  0.0141  0.0317  0.3566\n",
        "       NULL  0.0141  0.0317  0.3566\n",
        "------------------------------------------------------------------------\n",
        "L1 - Lex1\n",
        "                  1       2   1 v 2\n",
        "          A  0.4304     0.0     0.0\n",
        "          B     0.0  0.1916     0.0\n",
        "          X     0.0  0.2828     0.0\n",
        "      A v B  0.0317  0.0141  0.3566\n",
        "      A v X  0.0437  0.0195  0.4922\n",
        "      B v X     0.0  0.1753     0.0\n",
        "  A v B v X  0.0317  0.0141  0.3566\n",
        "       NULL  0.0317  0.0141  0.3566\n",
        "------------------------------------------------------------------------\n",
        "L1 - Lex2\n",
        "                  1       2   1 v 2\n",
        "          A   0.378     0.0     0.0\n",
        "          B     0.0   0.378     0.0\n",
        "          X   0.062   0.062  0.3104\n",
        "      A v B  0.0278  0.0278  0.1394\n",
        "      A v X  0.0384  0.0384  0.1924\n",
        "      B v X  0.0384  0.0384  0.1924\n",
        "  A v B v X  0.0278  0.0278  0.1394\n",
        "       NULL  0.0278  0.0278  0.1394\n",
        "------------------------------------------------------------------------\n",
        "L1 - marginalized\n",
        "                  1       2   1 v 2\n",
        "          A     1.0     0.0     0.0\n",
        "          B     0.0     1.0     0.0\n",
        "          X  0.3448  0.3448  0.3104\n",
        "      A v B  0.0736  0.0736  0.8527\n",
        "      A v X  0.2574  0.0579  0.6847\n",
        "      B v X  0.0579  0.2574  0.6847\n",
        "  A v B v X  0.0736  0.0736  0.8527\n",
        "       NULL  0.0736  0.0736  0.8527\n",
        "======================================================================\n",
        "--------------------------------\n",
        "S2 - A\n",
        "            Lex0    Lex1    Lex2\n",
        "       1  0.8284  0.8987  0.8648\n",
        "       2     0.0     0.0     0.0\n",
        "   1 v 2     0.0     0.0     0.0\n",
        "--------------------------------\n",
        "S2 - B\n",
        "            Lex0    Lex1    Lex2\n",
        "       1     0.0     0.0     0.0\n",
        "       2  0.8987  0.8284  0.8648\n",
        "   1 v 2     0.0     0.0     0.0\n",
        "--------------------------------\n",
        "S2 - X\n",
        "            Lex0    Lex1    Lex2\n",
        "       1  0.1453  0.0702  0.1181\n",
        "       2  0.0702  0.1453  0.1181\n",
        "   1 v 2  0.0901  0.0901  0.2022\n",
        "--------------------------------\n",
        "S2 - A v B\n",
        "            Lex0    Lex1    Lex2\n",
        "       1  0.0035  0.0017  0.0009\n",
        "       2  0.0017  0.0035  0.0009\n",
        "   1 v 2  0.3559  0.3559   0.252\n",
        "--------------------------------\n",
        "S2 - A v X\n",
        "            Lex0    Lex1    Lex2\n",
        "       1  0.0185  0.0283   0.015\n",
        "       2  0.0005   0.003  0.0008\n",
        "   1 v 2  0.0999  0.3167  0.2242\n",
        "--------------------------------\n",
        "S2 - B v X\n",
        "            Lex0    Lex1    Lex2\n",
        "       1   0.003  0.0005  0.0008\n",
        "       2  0.0283  0.0185   0.015\n",
        "   1 v 2  0.3167  0.0999  0.2242\n",
        "--------------------------------\n",
        "S2 - A v B v X\n",
        "            Lex0    Lex1    Lex2\n",
        "       1  0.0013  0.0006  0.0003\n",
        "       2  0.0006  0.0013  0.0003\n",
        "   1 v 2  0.1309  0.1309  0.0927\n",
        "--------------------------------\n",
        "S2 - NULL\n",
        "            Lex0    Lex1    Lex2\n",
        "       1  0.0001     0.0     0.0\n",
        "       2     0.0  0.0001     0.0\n",
        "   1 v 2  0.0065  0.0065  0.0046\n",
        "---------------------------------------------------------------------------------------------------\n",
        "S2 - marginalized\n",
        "                     A          B          X      A v B      A v X      B v X  A v B v X       NULL\n",
        "          1      0.864        0.0     0.1112      0.002     0.0206     0.0014     0.0007        0.0\n",
        "          2        0.0      0.864     0.1112      0.002     0.0014     0.0206     0.0007        0.0\n",
        "      1 v 2        0.0        0.0     0.1275     0.3213     0.2136     0.2136     0.1182     0.0059\n",
        "======================================================================\n",
        "------------------------------------------------------------------------\n",
        "L2 - Lex0\n",
        "                  1       2   1 v 2\n",
        "          A  0.3196     0.0     0.0\n",
        "          B     0.0  0.3467     0.0\n",
        "          X  0.1385  0.0669  0.0858\n",
        "      A v B  0.0036  0.0017  0.3647\n",
        "      A v X  0.0261  0.0006  0.1414\n",
        "      B v X  0.0042    0.04   0.448\n",
        "  A v B v X  0.0036  0.0017  0.3647\n",
        "       NULL  0.0036  0.0017  0.3647\n",
        "------------------------------------------------------------------------\n",
        "L2 - Lex1\n",
        "                  1       2   1 v 2\n",
        "          A  0.3467     0.0     0.0\n",
        "          B     0.0  0.3196     0.0\n",
        "          X  0.0669  0.1385  0.0858\n",
        "      A v B  0.0017  0.0036  0.3647\n",
        "      A v X    0.04  0.0042   0.448\n",
        "      B v X  0.0006  0.0261  0.1414\n",
        "  A v B v X  0.0017  0.0036  0.3647\n",
        "       NULL  0.0017  0.0036  0.3647\n",
        "------------------------------------------------------------------------\n",
        "L2 - Lex2\n",
        "                  1       2   1 v 2\n",
        "          A  0.3337     0.0     0.0\n",
        "          B     0.0  0.3337     0.0\n",
        "          X  0.1125  0.1125  0.1926\n",
        "      A v B  0.0009  0.0009  0.2582\n",
        "      A v X  0.0213  0.0011  0.3173\n",
        "      B v X  0.0011  0.0213  0.3173\n",
        "  A v B v X  0.0009  0.0009  0.2582\n",
        "       NULL  0.0009  0.0009  0.2582\n",
        "------------------------------------------------------------------------\n",
        "L2 - marginalized\n",
        "                  1       2   1 v 2\n",
        "          A     1.0     0.0     0.0\n",
        "          B     0.0     1.0     0.0\n",
        "          X  0.3179  0.3179  0.3643\n",
        "      A v B  0.0062  0.0062  0.9876\n",
        "      A v X  0.0874  0.0059  0.9067\n",
        "      B v X  0.0059  0.0874  0.9067\n",
        "  A v B v X  0.0062  0.0062  0.9876\n",
        "       NULL  0.0062  0.0062  0.9876\n",
        "--------------------------------------------------\n",
        "$\\alpha$: 2.0; $\\beta$: 1.0; cost($\\vee$): 1.0; cost(A): 0.0; cost(B): 0.0; cost(X): 0.0; $n$: 2; cost$(\\emptyset)$: 5.0; $\\lambda$: 1.0\n",
        "                         1            2        1 v 2     sum(lex)\n",
        "         Lex0        0.026        0.001        0.141        0.168\n",
        "         Lex1         0.04        0.004        0.448        0.492\n",
        "         Lex2        0.021        0.001        0.317         0.34\n",
        "   sum(state)        0.087        0.006        0.907\n"
       ]
      }
     ],
     "prompt_number": 3
    },
    {
     "cell_type": "markdown",
     "metadata": {},
     "source": [
      "Here are the three lexica we are dealing with:"
     ]
    },
    {
     "cell_type": "code",
     "collapsed": false,
     "input": [
      "for i, lex in enumerate(hc_small.lexica):\n",
      "    print \"Lex%s: \" % i, hc_small.lex2str(lex)"
     ],
     "language": "python",
     "metadata": {},
     "outputs": [
      {
       "output_type": "stream",
       "stream": "stdout",
       "text": [
        "Lex0:  A={1}; B={2}; X={1}\n",
        "Lex1:  A={1}; B={2}; X={2}\n",
        "Lex2:  A={1}; B={2}; X={1,2,1 v 2}\n"
       ]
      }
     ],
     "prompt_number": 4
    },
    {
     "cell_type": "heading",
     "level": 2,
     "metadata": {},
     "source": [
      "2. Hurford inference with a large lexicon"
     ]
    },
    {
     "cell_type": "markdown",
     "metadata": {},
     "source": [
      "The joint probability table is really big, so I just show the max:"
     ]
    },
    {
     "cell_type": "code",
     "collapsed": false,
     "input": [
      "def show_max_lex_state_values(experiment, msg='A v X'):\n",
      "    joint_prob_table = experiment.listener_inference(msg=msg)\n",
      "    max_prob = np.max(joint_prob_table)\n",
      "    for i, j in itertools.product(range(len(experiment.lexica)), range(len(experiment.states))):\n",
      "        if joint_prob_table[i, j] == max_prob:\n",
      "            print \"<Lex%s, %s>: %s\" % (i, experiment.states[j], joint_prob_table[i, j])"
     ],
     "language": "python",
     "metadata": {},
     "outputs": [],
     "prompt_number": 5
    },
    {
     "cell_type": "markdown",
     "metadata": {},
     "source": [
      "This run uses the same parameters as the above, but now the lexicon is larger:"
     ]
    },
    {
     "cell_type": "code",
     "collapsed": false,
     "input": [
      "hc_large = lsa.Experiment(n=10,\n",
      "                          baselexicon={'A': ['1'], 'B': ['2'], 'C': ['3'], 'D': ['4'], 'X': ['1', '2', '3', '4']}, \n",
      "                          lexical_costs={'A':0.0, 'B':0.0, 'C':0.0, 'D':0.0, 'X':0.0},\n",
      "                          temperature=1.0, \n",
      "                          disjunction_cost=1.0, \n",
      "                          beta=1.0,\n",
      "                          alpha=1.0, \n",
      "                          prior=None,    # Triggers a flat prior.\n",
      "                          lexprior=None, # Triggers a flat prior.\n",
      "                          null_cost=5.0)\n",
      "hc_large.build()\n",
      "show_max_lex_state_values(hc_large, msg='A v X')"
     ],
     "language": "python",
     "metadata": {},
     "outputs": [
      {
       "output_type": "stream",
       "stream": "stdout",
       "text": [
        "<Lex13, 1 v 3 v 4>: 0.0231181781803\n"
       ]
      }
     ],
     "prompt_number": 6
    },
    {
     "cell_type": "markdown",
     "metadata": {},
     "source": [
      "Lex13 is the least informative of the Hurfordian lexica, in that it enforces only that A and X are disjoint and that X is not trivial:"
     ]
    },
    {
     "cell_type": "code",
     "collapsed": false,
     "input": [
      "print hc_large.lex2str(13)"
     ],
     "language": "python",
     "metadata": {},
     "outputs": [
      {
       "output_type": "stream",
       "stream": "stdout",
       "text": [
        "A={1}; B={2}; C={3}; D={4}; X={2,3,4,2 v 3,2 v 4,3 v 4,2 v 3 v 4}\n"
       ]
      }
     ],
     "prompt_number": 7
    },
    {
     "cell_type": "markdown",
     "metadata": {},
     "source": [
      "I'm not sure what leads to 1 v 3 v 4 being the best state inference."
     ]
    },
    {
     "cell_type": "heading",
     "level": 2,
     "metadata": {},
     "source": [
      "3. Definitional reading with a small lexicon"
     ]
    },
    {
     "cell_type": "markdown",
     "metadata": {},
     "source": [
      "Here's a setting that delivers the definitional reading: we raise temperature/lambda and we lower disjunction_cost."
     ]
    },
    {
     "cell_type": "code",
     "collapsed": false,
     "input": [
      "defin_small = lsa.Experiment(n=3,\n",
      "                             baselexicon={'A': ['1'], 'B': ['2'], 'X':['1', '2']},\n",
      "                             lexical_costs={'A':0.0, 'B':0.0, 'X':0.0},\n",
      "                             temperature=1.0, \n",
      "                             disjunction_cost=0.01,\n",
      "                             unknown_word='X',\n",
      "                             beta=7.0,\n",
      "                             alpha=5.0, \n",
      "                             prior=None,    # Triggers a flat prior.\n",
      "                             lexprior=None, # Triggers a flat prior.\n",
      "                             null_cost=5.0)\n",
      "defin_small.build()\n",
      "defin_small.display_listener_inference(msg='A v X')"
     ],
     "language": "python",
     "metadata": {},
     "outputs": [
      {
       "output_type": "stream",
       "stream": "stdout",
       "text": [
        "--------------------------------------------------\n",
        "$\\alpha$: 5.0; $\\beta$: 7.0; cost($\\vee$): 0.01; cost(A): 0.0; cost(B): 0.0; cost(X): 0.0; $n$: 3; cost$(\\emptyset)$: 5.0; $\\lambda$: 1.0\n",
        "                         1            2        1 v 2     sum(lex)\n",
        "         Lex0          1.0          0.0          0.0          1.0\n",
        "         Lex1          0.0          0.0          0.0          0.0\n",
        "   sum(state)          1.0          0.0          0.0\n"
       ]
      }
     ],
     "prompt_number": 7
    },
    {
     "cell_type": "heading",
     "level": 2,
     "metadata": {},
     "source": [
      "4. Definitional reading with a large lexicon"
     ]
    },
    {
     "cell_type": "markdown",
     "metadata": {},
     "source": [
      "Same parameters as with the small lexicon:"
     ]
    },
    {
     "cell_type": "code",
     "collapsed": false,
     "input": [
      "defin_large = lsa.Experiment(n=3, \n",
      "                             baselexicon={'A': ['1'], 'B': ['2'], 'C': ['3'], 'D': ['4'], 'X': ['1', '2', '3', '4']}, \n",
      "                             lexical_costs={'A':0.0, 'B':0.0, 'C':0.0, 'D':0.0, 'X':0.0},\n",
      "                             temperature=1.0, \n",
      "                             disjunction_cost=0.01,\n",
      "                             beta=7.0, \n",
      "                             alpha=5.0, \n",
      "                             prior=None,    # Triggers a flat prior.\n",
      "                             lexprior=None, # Triggers a flat prior.\n",
      "                             null_cost=5.0)\n",
      "defin_large.build()\n",
      "\n",
      "# Just show the max values to avoid display overload:\n",
      "show_max_lex_state_values(defin_large, msg='A v X')"
     ],
     "language": "python",
     "metadata": {},
     "outputs": [
      {
       "output_type": "stream",
       "stream": "stdout",
       "text": [
        "<Lex0, 1>: 0.763576665559\n"
       ]
      }
     ],
     "prompt_number": 30
    },
    {
     "cell_type": "code",
     "collapsed": false,
     "input": [],
     "language": "python",
     "metadata": {},
     "outputs": []
    }
   ],
   "metadata": {}
  }
 ]
}