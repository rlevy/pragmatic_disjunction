{
 "metadata": {
  "name": "",
  "signature": "sha256:7b2bfbfa989e657ac95403b1b2b2ba27b1c74393d684e726a70234eb02b47a70"
 },
 "nbformat": 3,
 "nbformat_minor": 0,
 "worksheets": [
  {
   "cells": [
    {
     "cell_type": "heading",
     "level": 1,
     "metadata": {},
     "source": [
      "Hurford and definitional readings"
     ]
    },
    {
     "cell_type": "code",
     "collapsed": false,
     "input": [
      "import itertools\n",
      "import cPickle as pickle\n",
      "import matplotlib\n",
      "import matplotlib.pyplot as plt\n",
      "import numpy as np\n",
      "import lsa"
     ],
     "language": "python",
     "metadata": {},
     "outputs": [],
     "prompt_number": 1
    },
    {
     "cell_type": "code",
     "collapsed": false,
     "input": [
      "%matplotlib inline"
     ],
     "language": "python",
     "metadata": {},
     "outputs": [],
     "prompt_number": 2
    },
    {
     "cell_type": "heading",
     "level": 2,
     "metadata": {},
     "source": [
      "1. Hurford inference with a small lexicon"
     ]
    },
    {
     "cell_type": "markdown",
     "metadata": {},
     "source": [
      "Here, with basic and easy to defend parameter settings, we see the Hurford inference, in that the listener hearing 'A v X' infers that the lexicon is Lex1 and that the state is 1v2."
     ]
    },
    {
     "cell_type": "code",
     "collapsed": false,
     "input": [
      "reload(lsa)\n",
      "hc_small = lsa.Experiment(n=10, \n",
      "                          baselexicon={'A': ['1'], 'B': ['2'], 'X':['1', '2']}, \n",
      "                          lexical_costs={'A':0.0, 'B':0.0, 'X':0.0},\n",
      "                          temperature=1.0, \n",
      "                          disjunction_cost=1.0, \n",
      "                          beta=1.0, \n",
      "                          alpha=2.0, \n",
      "                          prior=None,    # Triggers a flat prior.\n",
      "                          lexprior=None, # Triggers a flat prior.\n",
      "                          null_cost=5.0)\n",
      "hc_small.build()\n",
      "hc_small.display_listener_inference(msg='A v X')"
     ],
     "language": "python",
     "metadata": {},
     "outputs": [
      {
       "output_type": "stream",
       "stream": "stdout",
       "text": [
        "======================================================================\n",
        "0\n",
        "------------------------------------------------------------------------\n",
        "L\n",
        "                  1       2   1 v 2\n",
        "          A     1.0     0.0     0.0\n",
        "          B     0.0     1.0     0.0\n",
        "          X     1.0     0.0     0.0\n",
        "      A v B     1.0     1.0     1.0\n",
        "      A v X     1.0     0.0     0.0\n",
        "      B v X     1.0     1.0     1.0\n",
        "  A v B v X     1.0     1.0     1.0\n",
        "       NULL     1.0     1.0     1.0\n",
        "------------------------------------------------------------------------\n",
        "L\n",
        "                  1       2   1 v 2\n",
        "          A     1.0     0.0     0.0\n",
        "          B     0.0     1.0     0.0\n",
        "          X     1.0     0.0     0.0\n",
        "      A v B  0.0351  0.0788  0.8862\n",
        "      A v X     1.0     0.0     0.0\n",
        "      B v X  0.0351  0.0788  0.8862\n",
        "  A v B v X  0.0351  0.0788  0.8862\n",
        "       NULL  0.0351  0.0788  0.8862\n",
        "======================================================================\n",
        "1\n",
        "------------------------------------------------------------------------\n",
        "L\n",
        "                  1       2   1 v 2\n",
        "          A     1.0     0.0     0.0\n",
        "          B     0.0     1.0     0.0\n",
        "          X     0.0     1.0     0.0\n",
        "      A v B     1.0     1.0     1.0\n",
        "      A v X     1.0     1.0     1.0\n",
        "      B v X     0.0     1.0     0.0\n",
        "  A v B v X     1.0     1.0     1.0\n",
        "       NULL     1.0     1.0     1.0\n",
        "------------------------------------------------------------------------\n",
        "L\n",
        "                  1       2   1 v 2\n",
        "          A     1.0     0.0     0.0\n",
        "          B     0.0     1.0     0.0\n",
        "          X     0.0     1.0     0.0\n",
        "      A v B  0.0788  0.0351  0.8862\n",
        "      A v X  0.0788  0.0351  0.8862\n",
        "      B v X     0.0     1.0     0.0\n",
        "  A v B v X  0.0788  0.0351  0.8862\n",
        "       NULL  0.0788  0.0351  0.8862\n",
        "======================================================================\n",
        "2\n",
        "------------------------------------------------------------------------\n",
        "L\n",
        "                  1       2   1 v 2\n",
        "          A     1.0     0.0     0.0\n",
        "          B     0.0     1.0     0.0\n",
        "          X     1.0     1.0     1.0\n",
        "      A v B     1.0     1.0     1.0\n",
        "      A v X     1.0     1.0     1.0\n",
        "      B v X     1.0     1.0     1.0\n",
        "  A v B v X     1.0     1.0     1.0\n",
        "       NULL     1.0     1.0     1.0\n",
        "------------------------------------------------------------------------\n",
        "L\n",
        "                  1       2   1 v 2\n",
        "          A     1.0     0.0     0.0\n",
        "          B     0.0     1.0     0.0\n",
        "          X  0.1427  0.1427  0.7146\n",
        "      A v B  0.1427  0.1427  0.7146\n",
        "      A v X  0.1427  0.1427  0.7146\n",
        "      B v X  0.1427  0.1427  0.7146\n",
        "  A v B v X  0.1427  0.1427  0.7146\n",
        "       NULL  0.1427  0.1427  0.7146\n",
        "--------------------------------------------------\n",
        "$\\alpha$: 2.0; $\\beta$: 1.0; cost($\\vee$): 1.0; cost(A): 0.0; cost(B): 0.0; cost(X): 0.0; $n$: 10; cost$(\\emptyset)$: 5.0; $\\lambda$: 1.0\n",
        "                         1            2        1 v 2     sum(lex)\n",
        "         Lex0          0.0          0.0        0.161        0.161\n",
        "         Lex1          0.0          0.0        0.472        0.472\n",
        "         Lex2          0.0          0.0        0.367        0.367\n",
        "   sum(state)          0.0          0.0          1.0\n"
       ]
      }
     ],
     "prompt_number": 2
    },
    {
     "cell_type": "markdown",
     "metadata": {},
     "source": [
      "Here are the three lexica we are dealing with:"
     ]
    },
    {
     "cell_type": "code",
     "collapsed": false,
     "input": [
      "for i, lex in enumerate(hc_small.lexica):\n",
      "    print \"Lex%s: \" % i, hc_small.lex2str(lex)"
     ],
     "language": "python",
     "metadata": {},
     "outputs": [
      {
       "output_type": "stream",
       "stream": "stdout",
       "text": [
        "Lex0:  A={1}; B={2}; X={1}\n",
        "Lex1:  A={1}; B={2}; X={2}\n",
        "Lex2:  A={1}; B={2}; X={1,2,1 v 2}\n"
       ]
      }
     ],
     "prompt_number": 4
    },
    {
     "cell_type": "heading",
     "level": 2,
     "metadata": {},
     "source": [
      "2. Hurford inference with a large lexicon"
     ]
    },
    {
     "cell_type": "markdown",
     "metadata": {},
     "source": [
      "The joint probability table is really big, so I just show the max:"
     ]
    },
    {
     "cell_type": "code",
     "collapsed": false,
     "input": [
      "def show_max_lex_state_values(experiment, msg='A v X'):\n",
      "    joint_prob_table = experiment.listener_inference(msg=msg)\n",
      "    max_prob = np.max(joint_prob_table)\n",
      "    for i, j in itertools.product(range(len(experiment.lexica)), range(len(experiment.states))):\n",
      "        if joint_prob_table[i, j] == max_prob:\n",
      "            print \"<Lex%s, %s>: %s\" % (i, experiment.states[j], joint_prob_table[i, j])"
     ],
     "language": "python",
     "metadata": {},
     "outputs": [],
     "prompt_number": 5
    },
    {
     "cell_type": "markdown",
     "metadata": {},
     "source": [
      "This run uses the same parameters as the above, but now the lexicon is larger:"
     ]
    },
    {
     "cell_type": "code",
     "collapsed": false,
     "input": [
      "hc_large = lsa.Experiment(n=10,\n",
      "                          baselexicon={'A': ['1'], 'B': ['2'], 'C': ['3'], 'D': ['4'], 'X': ['1', '2', '3', '4']}, \n",
      "                          lexical_costs={'A':0.0, 'B':0.0, 'C':0.0, 'D':0.0, 'X':0.0},\n",
      "                          temperature=1.0, \n",
      "                          disjunction_cost=1.0, \n",
      "                          beta=1.0,\n",
      "                          alpha=1.0, \n",
      "                          prior=None,    # Triggers a flat prior.\n",
      "                          lexprior=None, # Triggers a flat prior.\n",
      "                          null_cost=5.0)\n",
      "hc_large.build()\n",
      "show_max_lex_state_values(hc_large, msg='A v X')"
     ],
     "language": "python",
     "metadata": {},
     "outputs": [
      {
       "output_type": "stream",
       "stream": "stdout",
       "text": [
        "<Lex13, 1 v 3 v 4>: 0.0231181781803\n"
       ]
      }
     ],
     "prompt_number": 6
    },
    {
     "cell_type": "markdown",
     "metadata": {},
     "source": [
      "Lex13 is the least informative of the Hurfordian lexica, in that it enforces only that A and X are disjoint and that X is not trivial:"
     ]
    },
    {
     "cell_type": "code",
     "collapsed": false,
     "input": [
      "print hc_large.lex2str(13)"
     ],
     "language": "python",
     "metadata": {},
     "outputs": [
      {
       "output_type": "stream",
       "stream": "stdout",
       "text": [
        "A={1}; B={2}; C={3}; D={4}; X={2,3,4,2 v 3,2 v 4,3 v 4,2 v 3 v 4}\n"
       ]
      }
     ],
     "prompt_number": 7
    },
    {
     "cell_type": "markdown",
     "metadata": {},
     "source": [
      "I'm not sure what leads to 1 v 3 v 4 being the best state inference."
     ]
    },
    {
     "cell_type": "heading",
     "level": 2,
     "metadata": {},
     "source": [
      "3. Definitional reading with a small lexicon"
     ]
    },
    {
     "cell_type": "markdown",
     "metadata": {},
     "source": [
      "Here's a setting that delivers the definitional reading: we raise temperature/lambda and we lower disjunction_cost."
     ]
    },
    {
     "cell_type": "code",
     "collapsed": false,
     "input": [
      "defin_small = lsa.Experiment(n=3,\n",
      "                             baselexicon={'A': ['1'], 'B': ['2'], 'X':['1', '2']},\n",
      "                             lexical_costs={'A':0.0, 'B':0.0, 'X':0.0},\n",
      "                             temperature=1.0, \n",
      "                             disjunction_cost=0.01,\n",
      "                             unknown_word='X',\n",
      "                             beta=7.0,\n",
      "                             alpha=5.0, \n",
      "                             prior=None,    # Triggers a flat prior.\n",
      "                             lexprior=None, # Triggers a flat prior.\n",
      "                             null_cost=5.0)\n",
      "defin_small.build()\n",
      "defin_small.display_listener_inference(msg='A v X')"
     ],
     "language": "python",
     "metadata": {},
     "outputs": [
      {
       "output_type": "stream",
       "stream": "stdout",
       "text": [
        "--------------------------------------------------\n",
        "$\\alpha$: 5.0; $\\beta$: 7.0; cost($\\vee$): 0.01; cost(A): 0.0; cost(B): 0.0; cost(X): 0.0; $n$: 3; cost$(\\emptyset)$: 5.0; $\\lambda$: 1.0\n",
        "                         1            2        1 v 2     sum(lex)\n",
        "         Lex0          1.0          0.0          0.0          1.0\n",
        "         Lex1          0.0          0.0          0.0          0.0\n",
        "   sum(state)          1.0          0.0          0.0\n"
       ]
      }
     ],
     "prompt_number": 7
    },
    {
     "cell_type": "heading",
     "level": 2,
     "metadata": {},
     "source": [
      "4. Definitional reading with a large lexicon"
     ]
    },
    {
     "cell_type": "markdown",
     "metadata": {},
     "source": [
      "Same parameters as with the small lexicon:"
     ]
    },
    {
     "cell_type": "code",
     "collapsed": false,
     "input": [
      "defin_large = lsa.Experiment(n=3, \n",
      "                             baselexicon={'A': ['1'], 'B': ['2'], 'C': ['3'], 'D': ['4'], 'X': ['1', '2', '3', '4']}, \n",
      "                             lexical_costs={'A':0.0, 'B':0.0, 'C':0.0, 'D':0.0, 'X':0.0},\n",
      "                             temperature=1.0, \n",
      "                             disjunction_cost=0.01,\n",
      "                             beta=7.0, \n",
      "                             alpha=5.0, \n",
      "                             prior=None,    # Triggers a flat prior.\n",
      "                             lexprior=None, # Triggers a flat prior.\n",
      "                             null_cost=5.0)\n",
      "defin_large.build()\n",
      "\n",
      "# Just show the max values to avoid display overload:\n",
      "show_max_lex_state_values(defin_large, msg='A v X')"
     ],
     "language": "python",
     "metadata": {},
     "outputs": [
      {
       "output_type": "stream",
       "stream": "stdout",
       "text": [
        "<Lex0, 1>: 0.763576665559\n"
       ]
      }
     ],
     "prompt_number": 30
    },
    {
     "cell_type": "code",
     "collapsed": false,
     "input": [],
     "language": "python",
     "metadata": {},
     "outputs": []
    }
   ],
   "metadata": {}
  }
 ]
}